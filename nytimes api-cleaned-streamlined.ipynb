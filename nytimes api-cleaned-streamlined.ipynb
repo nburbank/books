{
 "cells": [
  {
   "cell_type": "markdown",
   "metadata": {},
   "source": [
    "#testing out the NY Times API"
   ]
  },
  {
   "cell_type": "code",
   "execution_count": 183,
   "metadata": {
    "collapsed": false
   },
   "outputs": [],
   "source": [
    "from urllib2 import Request, urlopen, URLError\n",
    "import json\n",
    "import psycopg2"
   ]
  },
  {
   "cell_type": "code",
   "execution_count": 184,
   "metadata": {
    "collapsed": false
   },
   "outputs": [],
   "source": [
    "#start with a function that makes the URI call for a given isbn number\n",
    "def make_URI(isbn_number):\n",
    "    key = 'ec4e2a5e373e93f850f9be6c420bb73a:2:73271883'\n",
    "    prefix = 'http://api.nytimes.com/svc/books/v3/lists/'\n",
    "    best_sellers = 'best-sellers/history.json?isbn='\n",
    "    api_key_string = \"&api-key=\"  + key\n",
    "    URI = prefix + best_sellers + str(isbn_number) + api_key_string\n",
    "#    print URI\n",
    "    return URI"
   ]
  },
  {
   "cell_type": "code",
   "execution_count": 185,
   "metadata": {
    "collapsed": false,
    "scrolled": true
   },
   "outputs": [],
   "source": [
    "#function that pulls the json file from the nytimes api\n",
    "def pull_nytimes_data(URI):\n",
    "    request = Request(URI)\n",
    "    response = urlopen(request)\n",
    "    parsed_response = json.loads(response.read())\n",
    "#    print parsed_response\n",
    "    return parsed_response"
   ]
  },
  {
   "cell_type": "code",
   "execution_count": 186,
   "metadata": {
    "collapsed": true
   },
   "outputs": [],
   "source": [
    "def is_it_on_the_list(parsed_json):\n",
    "    membership = parsed_json['num_results']\n",
    "    return membership"
   ]
  },
  {
   "cell_type": "code",
   "execution_count": 187,
   "metadata": {
    "collapsed": false,
    "scrolled": true
   },
   "outputs": [],
   "source": [
    "##this takes the author and title since they're in a different part of the json tile\n",
    "def extract_author_and_title(input):\n",
    "    author = input['results'][0]['author']\n",
    "    title = input['results'][0]['title']\n",
    "    print author\n",
    "    print title\n",
    "    return author,title"
   ]
  },
  {
   "cell_type": "code",
   "execution_count": 188,
   "metadata": {
    "collapsed": false
   },
   "outputs": [],
   "source": [
    "#this function goes through each of the entries in the bestselling list and makes it alist ad put it into a list of lists\n",
    "def make_lists_of_data(input,isbn):\n",
    "    entry_list = [None] * len(input['results'][0]['ranks_history'])\n",
    "\n",
    "    #start the entry list with the outer values, title and author\n",
    "    title = input['results'][0]['title'].encode('ascii', 'ignore')\n",
    "    isbn_10 = str(isbn) \n",
    "    author = input['results'][0]['author'].encode('ascii', 'ignore')    \n",
    "    description = input['results'][0]['description']\n",
    "    \n",
    "    \n",
    "    counter = 0\n",
    "    for item in input['results'][0]['ranks_history']:\n",
    "        entry = [title, isbn, author]\n",
    "        \n",
    "        rank = item['rank']\n",
    "        date = str(item['bestsellers_date'])\n",
    "        weeks_on_list = item['weeks_on_list']\n",
    "        book_list = str(item['list_name'])\n",
    "        \n",
    "        entry = entry + [book_list, rank, date, weeks_on_list] + [str(description)]\n",
    "\n",
    "        contributor = input['results'][0]['contributor'].encode('ascii', 'ignore')\n",
    "        publisher = input['results'][0]['publisher'].encode('ascii', 'ignore')\n",
    "        \n",
    "        entry = entry + [contributor, publisher]\n",
    "        entry_list[counter] = entry\n",
    "        counter = counter + 1\n",
    "    return entry_list"
   ]
  },
  {
   "cell_type": "code",
   "execution_count": 197,
   "metadata": {
    "collapsed": false
   },
   "outputs": [],
   "source": [
    "#this executemanies the list of lists into the database \n",
    "def put_in_database(results_as_a_list):    \n",
    "    con = None\n",
    "    con = psycopg2.connect(database='nytimes') \n",
    "    cur = con.cursor()\n",
    "    query = \"INSERT INTO books (title, isbn_10, author, list, rank, date, weeks_on_list, description, \\\n",
    "        contributor, publisher) VALUES (%s, %s, %s, %s, %s, %s, %s, %s, %s, %s)\"\n",
    "    cur.executemany(query, results_as_a_list)\n",
    "    con.commit()\n",
    "    con.close()\n",
    "    return"
   ]
  },
  {
   "cell_type": "code",
   "execution_count": 198,
   "metadata": {
    "collapsed": false
   },
   "outputs": [],
   "source": [
    "#start off with the isbn of the book you want to put into the database\n",
    "#isbn = '0553418025' #THE MARTIAN\n",
    "#isbn = '1476783454' #the survivor\n",
    "#remember to enter the isbn as a string\n",
    "def put_book_into_database(isbn):    \n",
    "    current_URI = make_URI(isbn)\n",
    "    json_data = pull_nytimes_data(current_URI)\n",
    "    if is_it_on_the_list(json_data) == 0:\n",
    "        print \"not on the list\"\n",
    "        return \n",
    "    ranking_results = make_lists_of_data(json_data,isbn)\n",
    "    put_in_database(ranking_results)\n",
    "    return\n",
    "\n"
   ]
  },
  {
   "cell_type": "code",
   "execution_count": 199,
   "metadata": {
    "collapsed": false,
    "scrolled": false
   },
   "outputs": [],
   "source": [
    "put_book_into_database(1476746583)\n",
    "\n",
    "\n",
    "#isbn_list = ['1476727392','0062225243','0312510780','0385539436','1419717014','1419717014','1607747308']\n",
    "#for book in isbn_list:\n",
    "#    print(str(book))\n",
    "#    put_book_into_database(book)"
   ]
  },
  {
   "cell_type": "code",
   "execution_count": 177,
   "metadata": {
    "collapsed": false,
    "scrolled": true
   },
   "outputs": [],
   "source": [
    "#fetch isbn numbers from the database, then get their histories\n",
    "con = psycopg2.connect(\"dbname='nytimes'\") \n",
    "cur = con.cursor()    \n",
    "cur.execute(\"SELECT isbn_10 FROM books\")\n",
    "rows = cur.fetchall()\n",
    "con.close()"
   ]
  },
  {
   "cell_type": "code",
   "execution_count": 178,
   "metadata": {
    "collapsed": false
   },
   "outputs": [],
   "source": [
    "isbn_list = list()\n",
    "for row in rows:\n",
    "    if row[0] != 'None':\n",
    "        if row[0] != '':    \n",
    "            isbn_list.append(row[0])\n",
    "isbn_list = list(set(isbn_list))        "
   ]
  },
  {
   "cell_type": "code",
   "execution_count": 179,
   "metadata": {
    "collapsed": false,
    "scrolled": true
   },
   "outputs": [
    {
     "name": "stdout",
     "output_type": "stream",
     "text": [
      "1476757801\n"
     ]
    }
   ],
   "source": [
    "for book in isbn_list:\n",
    "    print(str(book))\n",
    "    put_book_into_database(book)"
   ]
  },
  {
   "cell_type": "code",
   "execution_count": null,
   "metadata": {
    "collapsed": false
   },
   "outputs": [],
   "source": []
  },
  {
   "cell_type": "code",
   "execution_count": null,
   "metadata": {
    "collapsed": false,
    "scrolled": false
   },
   "outputs": [],
   "source": []
  },
  {
   "cell_type": "code",
   "execution_count": null,
   "metadata": {
    "collapsed": false
   },
   "outputs": [],
   "source": []
  },
  {
   "cell_type": "code",
   "execution_count": null,
   "metadata": {
    "collapsed": false
   },
   "outputs": [],
   "source": []
  },
  {
   "cell_type": "code",
   "execution_count": 427,
   "metadata": {
    "collapsed": false
   },
   "outputs": [],
   "source": []
  },
  {
   "cell_type": "code",
   "execution_count": 1,
   "metadata": {
    "collapsed": false,
    "scrolled": true
   },
   "outputs": [
    {
     "name": "stdout",
     "output_type": "stream",
     "text": [
      "Once deleted, variables cannot be recovered. Proceed (y/[n])? y\n"
     ]
    }
   ],
   "source": [
    "%reset"
   ]
  },
  {
   "cell_type": "raw",
   "metadata": {
    "collapsed": false
   },
   "source": []
  },
  {
   "cell_type": "code",
   "execution_count": 393,
   "metadata": {
    "collapsed": false
   },
   "outputs": [],
   "source": []
  },
  {
   "cell_type": "code",
   "execution_count": null,
   "metadata": {
    "collapsed": false
   },
   "outputs": [],
   "source": []
  },
  {
   "cell_type": "code",
   "execution_count": null,
   "metadata": {
    "collapsed": false
   },
   "outputs": [],
   "source": []
  },
  {
   "cell_type": "code",
   "execution_count": null,
   "metadata": {
    "collapsed": false
   },
   "outputs": [],
   "source": []
  },
  {
   "cell_type": "code",
   "execution_count": null,
   "metadata": {
    "collapsed": true
   },
   "outputs": [],
   "source": []
  },
  {
   "cell_type": "code",
   "execution_count": null,
   "metadata": {
    "collapsed": true
   },
   "outputs": [],
   "source": []
  }
 ],
 "metadata": {
  "kernelspec": {
   "display_name": "Python 2",
   "language": "python",
   "name": "python2"
  },
  "language_info": {
   "codemirror_mode": {
    "name": "ipython",
    "version": 2
   },
   "file_extension": ".py",
   "mimetype": "text/x-python",
   "name": "python",
   "nbconvert_exporter": "python",
   "pygments_lexer": "ipython2",
   "version": "2.7.10"
  }
 },
 "nbformat": 4,
 "nbformat_minor": 0
}
