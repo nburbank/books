{
 "cells": [
  {
   "cell_type": "markdown",
   "metadata": {},
   "source": [
    "#testing out the NY Times API"
   ]
  },
  {
   "cell_type": "code",
   "execution_count": 293,
   "metadata": {
    "collapsed": false
   },
   "outputs": [
    {
     "name": "stdout",
     "output_type": "stream",
     "text": [
      "Once deleted, variables cannot be recovered. Proceed (y/[n])? y\n"
     ]
    }
   ],
   "source": [
    "from urllib2 import Request, urlopen, URLError\n",
    "import json"
   ]
  },
  {
   "cell_type": "code",
   "execution_count": 375,
   "metadata": {
    "collapsed": false
   },
   "outputs": [
    {
     "name": "stdout",
     "output_type": "stream",
     "text": [
      "http://api.nytimes.com/svc/books/v3/lists/best-sellers/history.json?isbn=0553418025&api-key=ec4e2a5e373e93f850f9be6c420bb73a:2:73271883\n"
     ]
    }
   ],
   "source": [
    "key = 'ec4e2a5e373e93f850f9be6c420bb73a:2:73271883'\n",
    "isbn = '0553418025' #THE MARTIAN\n",
    "#isbn = '1476783454' #the survivor\n",
    "        \n",
    "prefix = 'http://api.nytimes.com/svc/books/v3/lists/'\n",
    "best_sellers = 'best-sellers/history.json?isbn='\n",
    "api_key_string = \"&api-key=\"  + key\n",
    "\n",
    "\n",
    "URI = prefix + best_sellers + isbn + api_key_string \n",
    "print URI"
   ]
  },
  {
   "cell_type": "code",
   "execution_count": 376,
   "metadata": {
    "collapsed": false,
    "scrolled": true
   },
   "outputs": [
    {
     "name": "stdout",
     "output_type": "stream",
     "text": [
      "<urllib2.Request instance at 0x104d3d170>\n"
     ]
    }
   ],
   "source": [
    "request = Request(URI)\n",
    "print request"
   ]
  },
  {
   "cell_type": "code",
   "execution_count": 377,
   "metadata": {
    "collapsed": false,
    "scrolled": true
   },
   "outputs": [
    {
     "name": "stdout",
     "output_type": "stream",
     "text": [
      "{\"status\":\"OK\",\"copyright\":\"Copyright (c) 2015 The New York Times Company.  All Rights Reserved.\",\"num_results\":1,\"results\":[{\"title\":\"THE MARTIAN\",\"description\":\"Abandoned by his crew, an astronaut embarks on a dogged quest to stay alive.\",\"contributor\":\"by Andy Weir\",\"author\":\"Andy Weir\",\"contributor_note\":\"\",\"price\":0,\"age_group\":\"\",\"publisher\":\"Crown\",\"isbns\":[{\"isbn10\":\"0804139024\",\"isbn13\":\"9780804139021\"},{\"isbn10\":\"0553418025\",\"isbn13\":\"9780553418026\"},{\"isbn10\":\"0091956145\",\"isbn13\":\"9780091956141\"},{\"isbn10\":\"1594138540\",\"isbn13\":\"9781594138546\"},{\"isbn10\":\"1101903589\",\"isbn13\":\"9781101903582\"},{\"isbn10\":\"110190500X\",\"isbn13\":\"9781101905005\"}],\"ranks_history\":[{\"primary_isbn10\":\"110190500X\",\"primary_isbn13\":\"9781101905005\",\"rank\":1,\"list_name\":\"Mass Market Paperback\",\"display_name\":\"Paperback Mass-Market Fiction\",\"published_date\":\"2015-10-25\",\"bestsellers_date\":\"2015-10-10\",\"weeks_on_list\":8,\"ranks_last_week\":null,\"asterisk\":0,\"dagger\":0},{\"primary_isbn10\":\"None\",\"primary_isbn13\":\"9780804139038\",\"rank\":2,\"list_name\":\"E-Book Fiction\",\"display_name\":\"E-Book Fiction\",\"published_date\":\"2015-10-25\",\"bestsellers_date\":\"2015-10-10\",\"weeks_on_list\":17,\"ranks_last_week\":null,\"asterisk\":0,\"dagger\":0},{\"primary_isbn10\":\"None\",\"primary_isbn13\":\"9780804139038\",\"rank\":2,\"list_name\":\"Combined Print and E-Book Fiction\",\"display_name\":\"Combined Print & E-Book Fiction\",\"published_date\":\"2015-10-25\",\"bestsellers_date\":\"2015-10-10\",\"weeks_on_list\":20,\"ranks_last_week\":null,\"asterisk\":0,\"dagger\":0},{\"primary_isbn10\":\"0553418025\",\"primary_isbn13\":\"9780553418026\",\"rank\":1,\"list_name\":\"Trade Fiction Paperback\",\"display_name\":\"Paperback Trade Fiction\",\"published_date\":\"2015-10-25\",\"bestsellers_date\":\"2015-10-10\",\"weeks_on_list\":50,\"ranks_last_week\":null,\"asterisk\":0,\"dagger\":0},{\"primary_isbn10\":\"None\",\"primary_isbn13\":\"9780804139038\",\"rank\":2,\"list_name\":\"E-Book Fiction\",\"display_name\":\"E-Book Fiction\",\"published_date\":\"2015-10-18\",\"bestsellers_date\":\"2015-10-03\",\"weeks_on_list\":16,\"ranks_last_week\":null,\"asterisk\":0,\"dagger\":0},{\"primary_isbn10\":\"None\",\"primary_isbn13\":\"9780804139038\",\"rank\":1,\"list_name\":\"Combined Print and E-Book Fiction\",\"display_name\":\"Combined Print & E-Book Fiction\",\"published_date\":\"2015-10-18\",\"bestsellers_date\":\"2015-10-03\",\"weeks_on_list\":19,\"ranks_last_week\":null,\"asterisk\":0,\"dagger\":0},{\"primary_isbn10\":\"0553418025\",\"primary_isbn13\":\"9780553418026\",\"rank\":1,\"list_name\":\"Trade Fiction Paperback\",\"display_name\":\"Paperback Trade Fiction\",\"published_date\":\"2015-10-18\",\"bestsellers_date\":\"2015-10-03\",\"weeks_on_list\":49,\"ranks_last_week\":null,\"asterisk\":0,\"dagger\":0},{\"primary_isbn10\":\"110190500X\",\"primary_isbn13\":\"9781101905005\",\"rank\":1,\"list_name\":\"Mass Market Paperback\",\"display_name\":\"Paperback Mass-Market Fiction\",\"published_date\":\"2015-10-18\",\"bestsellers_date\":\"2015-10-03\",\"weeks_on_list\":7,\"ranks_last_week\":null,\"asterisk\":0,\"dagger\":0},{\"primary_isbn10\":\"None\",\"primary_isbn13\":\"9780804139038\",\"rank\":1,\"list_name\":\"Combined Print and E-Book Fiction\",\"display_name\":\"Combined Print & E-Book Fiction\",\"published_date\":\"2015-10-11\",\"bestsellers_date\":\"2015-09-26\",\"weeks_on_list\":18,\"ranks_last_week\":null,\"asterisk\":0,\"dagger\":0},{\"primary_isbn10\":\"0553418025\",\"primary_isbn13\":\"9780553418026\",\"rank\":1,\"list_name\":\"Trade Fiction Paperback\",\"display_name\":\"Paperback Trade Fiction\",\"published_date\":\"2015-10-11\",\"bestsellers_date\":\"2015-09-26\",\"weeks_on_list\":48,\"ranks_last_week\":null,\"asterisk\":0,\"dagger\":0},{\"primary_isbn10\":\"110190500X\",\"primary_isbn13\":\"9781101905005\",\"rank\":2,\"list_name\":\"Mass Market Paperback\",\"display_name\":\"Paperback Mass-Market Fiction\",\"published_date\":\"2015-10-11\",\"bestsellers_date\":\"2015-09-26\",\"weeks_on_list\":6,\"ranks_last_week\":null,\"asterisk\":0,\"dagger\":0},{\"primary_isbn10\":\"None\",\"primary_isbn13\":\"9780804139038\",\"rank\":1,\"list_name\":\"E-Book Fiction\",\"display_name\":\"E-Book Fiction\",\"published_date\":\"2015-10-11\",\"bestsellers_date\":\"2015-09-26\",\"weeks_on_list\":15,\"ranks_last_week\":null,\"asterisk\":0,\"dagger\":0},{\"primary_isbn10\":\"110190500X\",\"primary_isbn13\":\"9781101905005\",\"rank\":2,\"list_name\":\"Mass Market Paperback\",\"display_name\":\"Paperback Mass-Market Fiction\",\"published_date\":\"2015-10-04\",\"bestsellers_date\":\"2015-09-19\",\"weeks_on_list\":5,\"ranks_last_week\":null,\"asterisk\":0,\"dagger\":0},{\"primary_isbn10\":\"None\",\"primary_isbn13\":\"9780804139038\",\"rank\":4,\"list_name\":\"E-Book Fiction\",\"display_name\":\"E-Book Fiction\",\"published_date\":\"2015-10-04\",\"bestsellers_date\":\"2015-09-19\",\"weeks_on_list\":14,\"ranks_last_week\":null,\"asterisk\":0,\"dagger\":0},{\"primary_isbn10\":\"None\",\"primary_isbn13\":\"9780804139038\",\"rank\":1,\"list_name\":\"Combined Print and E-Book Fiction\",\"display_name\":\"Combined Print & E-Book Fiction\",\"published_date\":\"2015-10-04\",\"bestsellers_date\":\"2015-09-19\",\"weeks_on_list\":17,\"ranks_last_week\":null,\"asterisk\":0,\"dagger\":0},{\"primary_isbn10\":\"0553418025\",\"primary_isbn13\":\"9780553418026\",\"rank\":1,\"list_name\":\"Trade Fiction Paperback\",\"display_name\":\"Paperback Trade Fiction\",\"published_date\":\"2015-10-04\",\"bestsellers_date\":\"2015-09-19\",\"weeks_on_list\":47,\"ranks_last_week\":null,\"asterisk\":0,\"dagger\":0},{\"primary_isbn10\":\"0553418025\",\"primary_isbn13\":\"9780553418026\",\"rank\":1,\"list_name\":\"Trade Fiction Paperback\",\"display_name\":\"Paperback Trade Fiction\",\"published_date\":\"2015-09-27\",\"bestsellers_date\":\"2015-09-12\",\"weeks_on_list\":46,\"ranks_last_week\":null,\"asterisk\":0,\"dagger\":0},{\"primary_isbn10\":\"None\",\"primary_isbn13\":\"9780804139038\",\"rank\":3,\"list_name\":\"E-Book Fiction\",\"display_name\":\"E-Book Fiction\",\"published_date\":\"2015-09-27\",\"bestsellers_date\":\"2015-09-12\",\"weeks_on_list\":13,\"ranks_last_week\":null,\"asterisk\":0,\"dagger\":0},{\"primary_isbn10\":\"110190500X\",\"primary_isbn13\":\"9781101905005\",\"rank\":3,\"list_name\":\"Mass Market Paperback\",\"display_name\":\"Paperback Mass-Market Fiction\",\"published_date\":\"2015-09-27\",\"bestsellers_date\":\"2015-09-12\",\"weeks_on_list\":4,\"ranks_last_week\":null,\"asterisk\":0,\"dagger\":0},{\"primary_isbn10\":\"None\",\"primary_isbn13\":\"9780804139038\",\"rank\":3,\"list_name\":\"Combined Print and E-Book Fiction\",\"display_name\":\"Combined Print & E-Book Fiction\",\"published_date\":\"2015-09-27\",\"bestsellers_date\":\"2015-09-12\",\"weeks_on_list\":16,\"ranks_last_week\":null,\"asterisk\":0,\"dagger\":0}],\"reviews\":[{\"book_review_link\":\"\",\"first_chapter_link\":\"\",\"sunday_review_link\":\"\",\"article_chapter_link\":\"\"}]}]}\n"
     ]
    }
   ],
   "source": [
    "response = urlopen(request)\n",
    "print response.read()"
   ]
  },
  {
   "cell_type": "code",
   "execution_count": 378,
   "metadata": {
    "collapsed": false
   },
   "outputs": [],
   "source": [
    "martians = urlopen(request)\n",
    "partians = json.loads(martians.read())"
   ]
  },
  {
   "cell_type": "code",
   "execution_count": 379,
   "metadata": {
    "collapsed": false
   },
   "outputs": [
    {
     "data": {
      "text/plain": [
       "dict"
      ]
     },
     "execution_count": 379,
     "metadata": {},
     "output_type": "execute_result"
    }
   ],
   "source": [
    "type(partians)"
   ]
  },
  {
   "cell_type": "code",
   "execution_count": 380,
   "metadata": {
    "collapsed": true
   },
   "outputs": [],
   "source": [
    "parsed_martian = partians"
   ]
  },
  {
   "cell_type": "code",
   "execution_count": null,
   "metadata": {
    "collapsed": true
   },
   "outputs": [],
   "source": []
  },
  {
   "cell_type": "code",
   "execution_count": 381,
   "metadata": {
    "collapsed": false
   },
   "outputs": [
    {
     "data": {
      "text/plain": [
       "dict"
      ]
     },
     "execution_count": 381,
     "metadata": {},
     "output_type": "execute_result"
    }
   ],
   "source": [
    "type(parsed_martian)"
   ]
  },
  {
   "cell_type": "code",
   "execution_count": 382,
   "metadata": {
    "collapsed": false
   },
   "outputs": [
    {
     "data": {
      "text/plain": [
       "[u'status', u'num_results', u'results', u'copyright']"
      ]
     },
     "execution_count": 382,
     "metadata": {},
     "output_type": "execute_result"
    }
   ],
   "source": [
    "parsed_martian.keys()"
   ]
  },
  {
   "cell_type": "code",
   "execution_count": 383,
   "metadata": {
    "collapsed": false,
    "scrolled": true
   },
   "outputs": [
    {
     "data": {
      "text/plain": [
       "dict"
      ]
     },
     "execution_count": 383,
     "metadata": {},
     "output_type": "execute_result"
    }
   ],
   "source": [
    "results = parsed_martian['results']\n",
    "type(results[0])"
   ]
  },
  {
   "cell_type": "code",
   "execution_count": 384,
   "metadata": {
    "collapsed": false
   },
   "outputs": [
    {
     "data": {
      "text/plain": [
       "[u'publisher',\n",
       " u'description',\n",
       " u'author',\n",
       " u'price',\n",
       " u'title',\n",
       " u'ranks_history',\n",
       " u'reviews',\n",
       " u'isbns',\n",
       " u'contributor',\n",
       " u'contributor_note',\n",
       " u'age_group']"
      ]
     },
     "execution_count": 384,
     "metadata": {},
     "output_type": "execute_result"
    }
   ],
   "source": [
    "results[0].keys()"
   ]
  },
  {
   "cell_type": "code",
   "execution_count": 401,
   "metadata": {
    "collapsed": false,
    "scrolled": false
   },
   "outputs": [
    {
     "name": "stdout",
     "output_type": "stream",
     "text": [
      "THE MARTIAN\n",
      "Andy Weir\n"
     ]
    }
   ],
   "source": [
    "author = str(results[0]['author'])\n",
    "title = str(results[0]['title'])\n",
    "print title\n",
    "print author\n",
    "\n",
    "ranks_history = results[0]['ranks_history']"
   ]
  },
  {
   "cell_type": "code",
   "execution_count": 386,
   "metadata": {
    "collapsed": false,
    "scrolled": true
   },
   "outputs": [
    {
     "data": {
      "text/plain": [
       "[u'ranks_last_week',\n",
       " u'display_name',\n",
       " u'bestsellers_date',\n",
       " u'primary_isbn10',\n",
       " u'primary_isbn13',\n",
       " u'asterisk',\n",
       " u'rank',\n",
       " u'published_date',\n",
       " u'dagger',\n",
       " u'list_name',\n",
       " u'weeks_on_list']"
      ]
     },
     "execution_count": 386,
     "metadata": {},
     "output_type": "execute_result"
    }
   ],
   "source": [
    "len(ranks_history)\n",
    "ranks_history[0].keys()\n"
   ]
  },
  {
   "cell_type": "code",
   "execution_count": 402,
   "metadata": {
    "collapsed": false
   },
   "outputs": [],
   "source": [
    "entry_list = [None] * 20\n",
    "counter = 0\n",
    "for item in ranks_history:\n",
    "    rank = item['rank']\n",
    "    date = str(item['bestsellers_date'])\n",
    "    weeks_on_list = item['weeks_on_list']\n",
    "    book_list = str(item['list_name'])\n",
    "    entry = [title, isbn, author, book_list, rank, date, weeks_on_list]\n",
    "    entry_list[counter] = entry\n",
    "    counter = counter + 1\n"
   ]
  },
  {
   "cell_type": "code",
   "execution_count": 443,
   "metadata": {
    "collapsed": false
   },
   "outputs": [],
   "source": [
    "import psycopg2\n",
    "\n",
    "con = None\n",
    "\n",
    "con = psycopg2.connect(database='nytimes') \n",
    "cur = con.cursor()\n",
    "cur.execute(\"CREATE TABLE books(title VARCHAR(255), isbn_10 INT, author VARCHAR(255), list VARCHAR(255), rank INT, date VARCHAR(255), weeks_on_list INT, description VARCHAR(255))\")\n",
    "\n",
    "con.commit()\n",
    "con.close()"
   ]
  },
  {
   "cell_type": "code",
   "execution_count": null,
   "metadata": {
    "collapsed": false,
    "scrolled": true
   },
   "outputs": [],
   "source": []
  },
  {
   "cell_type": "code",
   "execution_count": 442,
   "metadata": {
    "collapsed": false
   },
   "outputs": [],
   "source": [
    "con = None\n",
    "\n",
    "con = psycopg2.connect(database='nytimes') \n",
    "cur = con.cursor()\n",
    "\n",
    "query = \"INSERT INTO books (title, isbn_10, author, list, rank, date, weeks_on_list) VALUES (%s, %s, %s, %s, %s, %s, %s)\"\n",
    "cur.executemany(query, entry_list)\n",
    "\n",
    "con.commit()\n",
    "con.close()"
   ]
  },
  {
   "cell_type": "code",
   "execution_count": 393,
   "metadata": {
    "collapsed": false
   },
   "outputs": [],
   "source": []
  },
  {
   "cell_type": "code",
   "execution_count": null,
   "metadata": {
    "collapsed": false
   },
   "outputs": [],
   "source": []
  },
  {
   "cell_type": "code",
   "execution_count": null,
   "metadata": {
    "collapsed": false
   },
   "outputs": [],
   "source": []
  },
  {
   "cell_type": "code",
   "execution_count": null,
   "metadata": {
    "collapsed": false
   },
   "outputs": [],
   "source": []
  },
  {
   "cell_type": "code",
   "execution_count": null,
   "metadata": {
    "collapsed": true
   },
   "outputs": [],
   "source": []
  },
  {
   "cell_type": "code",
   "execution_count": null,
   "metadata": {
    "collapsed": true
   },
   "outputs": [],
   "source": []
  }
 ],
 "metadata": {
  "kernelspec": {
   "display_name": "Python 2",
   "language": "python",
   "name": "python2"
  },
  "language_info": {
   "codemirror_mode": {
    "name": "ipython",
    "version": 2
   },
   "file_extension": ".py",
   "mimetype": "text/x-python",
   "name": "python",
   "nbconvert_exporter": "python",
   "pygments_lexer": "ipython2",
   "version": "2.7.10"
  }
 },
 "nbformat": 4,
 "nbformat_minor": 0
}
