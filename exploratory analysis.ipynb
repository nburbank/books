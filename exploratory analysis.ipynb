{
 "cells": [
  {
   "cell_type": "code",
   "execution_count": null,
   "metadata": {
    "collapsed": true
   },
   "outputs": [],
   "source": []
  },
  {
   "cell_type": "code",
   "execution_count": 1,
   "metadata": {
    "collapsed": true
   },
   "outputs": [],
   "source": [
    "#thesis 1: few authors dominate the lists (winner takes all)\n",
    "#thesis 2: few publishers dominate the lists (oligarchy)"
   ]
  },
  {
   "cell_type": "code",
   "execution_count": 1,
   "metadata": {
    "collapsed": true
   },
   "outputs": [],
   "source": [
    "#import dependencies\n",
    "import psycopg2\n",
    "import pandas as pd\n",
    "import numpy as np"
   ]
  },
  {
   "cell_type": "code",
   "execution_count": 2,
   "metadata": {
    "collapsed": true
   },
   "outputs": [],
   "source": [
    "#pull data from the database\n",
    "con = psycopg2.connect(\"dbname='nytimes'\") \n",
    "cur = con.cursor()    \n",
    "cur.execute(\"SELECT * FROM books\")\n",
    "rows = cur.fetchall()\n",
    "con.close()"
   ]
  },
  {
   "cell_type": "code",
   "execution_count": 6,
   "metadata": {
    "collapsed": false
   },
   "outputs": [
    {
     "data": {
      "text/plain": [
       "40406"
      ]
     },
     "execution_count": 6,
     "metadata": {},
     "output_type": "execute_result"
    }
   ],
   "source": [
    "# import as a dataframe\n",
    "data_frame = pd.DataFrame()\n",
    "data_frame = pd.DataFrame(data = rows, columns=('id','title', 'isbn', 'author', 'list', 'rank', 'date', 'weeks on list', 'description', 'contributor', 'publisher', 'updated frequency' ) )\n",
    "len(data_frame)"
   ]
  },
  {
   "cell_type": "code",
   "execution_count": 119,
   "metadata": {
    "collapsed": false
   },
   "outputs": [
    {
     "name": "stdout",
     "output_type": "stream",
     "text": [
      "40406\n"
     ]
    }
   ],
   "source": [
    "#subdivide the data for quicker iteration in practice \n",
    "test_length = len(data_frame)\n",
    "test_data = data_frame.sample(test_length)\n",
    "len(test_data)\n",
    "\n",
    "best_filter = test_data['list'] == 'Combined Print & E-Book Fiction'\n",
    "#test_data = test_data[best_filter]\n",
    "print len(test_data)"
   ]
  },
  {
   "cell_type": "code",
   "execution_count": 16,
   "metadata": {
    "collapsed": false,
    "scrolled": true
   },
   "outputs": [],
   "source": [
    "# get the count by author\n",
    "authors = test_data['author']\n",
    "author_freq = authors.value_counts()\n",
    "author_names = author_freq.keys()"
   ]
  },
  {
   "cell_type": "code",
   "execution_count": 17,
   "metadata": {
    "collapsed": false
   },
   "outputs": [
    {
     "name": "stdout",
     "output_type": "stream",
     "text": [
      "[[ 1.         -0.06265231]\n",
      " [-0.06265231  1.        ]]\n"
     ]
    }
   ],
   "source": [
    "# get the count by book\n",
    "books = test_data['title']\n",
    "book_freq = books.value_counts()\n",
    "book_titles = book_freq.keys()\n",
    "\n",
    "book_stats = pd.DataFrame(columns = ('title', 'score','author', 'author book count'))\n",
    "\n",
    "counter = 0\n",
    "for title in book_titles:\n",
    "    filter_vector = (books == title)\n",
    "    score = sum(6- test_data[filter_vector]['rank'])\n",
    "    author = test_data[filter_vector]['author'].unique()[0]\n",
    "    \n",
    "    filter_vector = (authors == author)\n",
    "    titles = test_data[filter_vector]['title']\n",
    "    author_book_count = len(titles.unique())\n",
    "    \n",
    "    book_stats.loc[counter] = [title, score, author, author_book_count]\n",
    "    counter += 1\n",
    "\n",
    "print np.corrcoef(book_stats['score'], book_stats['author book count'])"
   ]
  },
  {
   "cell_type": "code",
   "execution_count": 116,
   "metadata": {
    "collapsed": false,
    "scrolled": true
   },
   "outputs": [
    {
     "name": "stdout",
     "output_type": "stream",
     "text": [
      "7.02777777778\n",
      "12.3295454545\n"
     ]
    },
    {
     "data": {
      "image/png": "[encoded data removed]",
      "text/plain": [
       "<matplotlib.figure.Figure at 0x11d2bfb50>"
      ]
     },
     "metadata": {},
     "output_type": "display_data"
    }
   ],
   "source": [
    "import matplotlib.pyplot as plt\n",
    "%matplotlib inline\n",
    "\n",
    "one_hitters = book_stats[(book_stats['author book count'] == 1)] \n",
    "winners = book_stats[(book_stats['author book count'] > 1)] \n",
    "\n",
    "plt.hist(one_hitters['score'], bins = 150, color = 'blue', alpha = .5)\n",
    "\n",
    "print np.mean(winners['score'])\n",
    "print np.mean(one_hitters['score'])"
   ]
  },
  {
   "cell_type": "code",
   "execution_count": 78,
   "metadata": {
    "collapsed": false
   },
   "outputs": [
    {
     "name": "stdout",
     "output_type": "stream",
     "text": [
      "1085.0\n"
     ]
    },
    {
     "data": {
      "text/plain": [
       "(array([ 72.,   5.,   2.,   2.,   0.,   1.,   0.,   1.,   0.,   2.,   0.,\n",
       "          0.,   0.,   0.,   0.,   0.,   0.,   2.,   0.,   1.]),\n",
       " array([   1. ,    9.2,   17.4,   25.6,   33.8,   42. ,   50.2,   58.4,\n",
       "          66.6,   74.8,   83. ,   91.2,   99.4,  107.6,  115.8,  124. ,\n",
       "         132.2,  140.4,  148.6,  156.8,  165. ]),\n",
       " <a list of 20 Patch objects>)"
      ]
     },
     "execution_count": 78,
     "metadata": {},
     "output_type": "execute_result"
    },
    {
     "data": {
      "image/png": "[encoded data removed]",
      "text/plain": [
       "<matplotlib.figure.Figure at 0x119941a10>"
      ]
     },
     "metadata": {},
     "output_type": "display_data"
    }
   ],
   "source": [
    "\n",
    "#plt.hist(book_stats['score'][book_stats['author book count'] == 1], bins = 30, color = 'red' )\n",
    "\n",
    "selection = book_stats['author book count'] == 1\n",
    "data_selection = book_stats[selection]['score'] \n",
    "print sum(data_selection)\n",
    "plt.hist(data_selection, bins = 20)"
   ]
  },
  {
   "cell_type": "code",
   "execution_count": 93,
   "metadata": {
    "collapsed": false
   },
   "outputs": [
    {
     "data": {
      "text/plain": [
       "array([[ 1.        ,  0.20032289],\n",
       "       [ 0.20032289,  1.        ]])"
      ]
     },
     "execution_count": 93,
     "metadata": {},
     "output_type": "execute_result"
    }
   ],
   "source": [
    "mediocre_vector = book_stats['score'] < 5\n",
    "mediocre_books = book_stats[mediocre_vector]\n",
    "mediocre_books['score']\n",
    "np.corrcoef(mediocre_books['score'], mediocre_books['author book count'])"
   ]
  },
  {
   "cell_type": "code",
   "execution_count": 117,
   "metadata": {
    "collapsed": false
   },
   "outputs": [
    {
     "data": {
      "text/plain": [
       "<matplotlib.collections.PathCollection at 0x11b555050>"
      ]
     },
     "execution_count": 117,
     "metadata": {},
     "output_type": "execute_result"
    },
    {
     "data": {
      "image/png": "[encoded data removed]",
      "text/plain": [
       "<matplotlib.figure.Figure at 0x11b369190>"
      ]
     },
     "metadata": {},
     "output_type": "display_data"
    }
   ],
   "source": [
    "plt.scatter(book_stats['author book count'], book_stats['score'], alpha = 0.5)\n"
   ]
  },
  {
   "cell_type": "code",
   "execution_count": 120,
   "metadata": {
    "collapsed": false
   },
   "outputs": [],
   "source": [
    "test_data.to_csv('books.csv')"
   ]
  },
  {
   "cell_type": "code",
   "execution_count": null,
   "metadata": {
    "collapsed": false
   },
   "outputs": [],
   "source": []
  },
  {
   "cell_type": "code",
   "execution_count": null,
   "metadata": {
    "collapsed": false,
    "scrolled": true
   },
   "outputs": [],
   "source": []
  },
  {
   "cell_type": "code",
   "execution_count": null,
   "metadata": {
    "collapsed": false,
    "scrolled": true
   },
   "outputs": [],
   "source": []
  },
  {
   "cell_type": "code",
   "execution_count": null,
   "metadata": {
    "collapsed": false
   },
   "outputs": [],
   "source": []
  },
  {
   "cell_type": "code",
   "execution_count": null,
   "metadata": {
    "collapsed": true
   },
   "outputs": [],
   "source": []
  },
  {
   "cell_type": "code",
   "execution_count": null,
   "metadata": {
    "collapsed": false
   },
   "outputs": [],
   "source": []
  },
  {
   "cell_type": "code",
   "execution_count": null,
   "metadata": {
    "collapsed": false
   },
   "outputs": [],
   "source": []
  },
  {
   "cell_type": "code",
   "execution_count": null,
   "metadata": {
    "collapsed": false
   },
   "outputs": [],
   "source": []
  },
  {
   "cell_type": "code",
   "execution_count": null,
   "metadata": {
    "collapsed": false
   },
   "outputs": [],
   "source": []
  },
  {
   "cell_type": "code",
   "execution_count": null,
   "metadata": {
    "collapsed": false,
    "scrolled": false
   },
   "outputs": [],
   "source": []
  },
  {
   "cell_type": "code",
   "execution_count": null,
   "metadata": {
    "collapsed": true
   },
   "outputs": [],
   "source": []
  }
 ],
 "metadata": {
  "kernelspec": {
   "display_name": "Python 2",
   "language": "python",
   "name": "python2"
  },
  "language_info": {
   "codemirror_mode": {
    "name": "ipython",
    "version": 2
   },
   "file_extension": ".py",
   "mimetype": "text/x-python",
   "name": "python",
   "nbconvert_exporter": "python",
   "pygments_lexer": "ipython2",
   "version": "2.7.10"
  }
 },
 "nbformat": 4,
 "nbformat_minor": 0
}
