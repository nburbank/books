{
 "cells": [
  {
   "cell_type": "code",
   "execution_count": 1,
   "metadata": {
    "collapsed": false
   },
   "outputs": [],
   "source": [
    "import psycopg2\n",
    "\n",
    "con = None\n",
    "\n",
    "con = psycopg2.connect(database='nytimes') \n",
    "cur = con.cursor()\n",
    "cur.execute(\"CREATE TABLE books(Id INT, title VARCHAR(255), isbn_10 VARCHAR(255), author VARCHAR(255), list VARCHAR(255), rank INT, date VARCHAR(255), weeks_on_list INT, description VARCHAR(500), contributor VARCHAR(255), publisher VARCHAR(255), update_frequency VARCHAR(255) )\")\n",
    "\n",
    "con.commit()\n",
    "con.close()"
   ]
  },
  {
   "cell_type": "code",
   "execution_count": null,
   "metadata": {
    "collapsed": true
   },
   "outputs": [],
   "source": []
  }
 ],
 "metadata": {
  "kernelspec": {
   "display_name": "Python 2",
   "language": "python",
   "name": "python2"
  },
  "language_info": {
   "codemirror_mode": {
    "name": "ipython",
    "version": 2
   },
   "file_extension": ".py",
   "mimetype": "text/x-python",
   "name": "python",
   "nbconvert_exporter": "python",
   "pygments_lexer": "ipython2",
   "version": "2.7.10"
  }
 },
 "nbformat": 4,
 "nbformat_minor": 0
}
