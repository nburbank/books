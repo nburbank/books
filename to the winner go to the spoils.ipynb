{
 "cells": [
  {
   "cell_type": "code",
   "execution_count": 2,
   "metadata": {
    "collapsed": true
   },
   "outputs": [],
   "source": [
    "#the goal here is to demonstrate that to the winner goes the spoils, \n",
    "#an in particular, it is to the very winners that go almost all of the spoils"
   ]
  },
  {
   "cell_type": "code",
   "execution_count": 3,
   "metadata": {
    "collapsed": true
   },
   "outputs": [],
   "source": [
    "#thesis 1: few authors dominate the lists (winner takes all)\n",
    "#thesis 2: few publishers dominate the lists (oligarchy)"
   ]
  },
  {
   "cell_type": "code",
   "execution_count": 4,
   "metadata": {
    "collapsed": true
   },
   "outputs": [],
   "source": [
    "#import dependencies\n",
    "import psycopg2\n",
    "import pandas as pd"
   ]
  },
  {
   "cell_type": "code",
   "execution_count": 5,
   "metadata": {
    "collapsed": true
   },
   "outputs": [],
   "source": [
    "#fetch isbn numbers from the database, then get their histories\n",
    "con = psycopg2.connect(\"dbname='nytimes'\") \n",
    "cur = con.cursor()    \n",
    "cur.execute(\"SELECT * FROM books\")\n",
    "rows = cur.fetchall()\n",
    "con.close()"
   ]
  },
  {
   "cell_type": "code",
   "execution_count": null,
   "metadata": {
    "collapsed": false
   },
   "outputs": [],
   "source": []
  },
  {
   "cell_type": "code",
   "execution_count": 6,
   "metadata": {
    "collapsed": false
   },
   "outputs": [],
   "source": [
    "data_frame = pd.DataFrame()\n",
    "data_frame = pd.DataFrame(columns=('id','title', 'isbn', 'author', 'list', 'rank', 'date', 'weeks on list', 'description', 'contributor', 'publisher', 'updated frequency' ) )"
   ]
  },
  {
   "cell_type": "code",
   "execution_count": 8,
   "metadata": {
    "collapsed": false
   },
   "outputs": [],
   "source": [
    "#segment the data for iterative processing\n",
    "test_length = 5000\n",
    "test_data = data_frame.sample(test_length)"
   ]
  },
  {
   "cell_type": "code",
   "execution_count": null,
   "metadata": {
    "collapsed": true
   },
   "outputs": [],
   "source": []
  },
  {
   "cell_type": "code",
   "execution_count": 7,
   "metadata": {
    "collapsed": false
   },
   "outputs": [],
   "source": [
    "import numpy as np\n",
    "import matplotlib\n",
    "import matplotlib.pyplot as plt\n",
    "%matplotlib inline"
   ]
  },
  {
   "cell_type": "code",
   "execution_count": 8,
   "metadata": {
    "collapsed": false
   },
   "outputs": [
    {
     "data": {
      "text/plain": [
       "<matplotlib.axes._subplots.AxesSubplot at 0x10b1c7210>"
      ]
     },
     "execution_count": 8,
     "metadata": {},
     "output_type": "execute_result"
    },
    {
     "data": {
      "image/png": "[encoded data removed]",
      "text/plain": [
       "<matplotlib.figure.Figure at 0x10b1b5250>"
      ]
     },
     "metadata": {},
     "output_type": "display_data"
    }
   ],
   "source": [
    "data_frame.plot()"
   ]
  },
  {
   "cell_type": "code",
   "execution_count": 115,
   "metadata": {
    "collapsed": false,
    "scrolled": true
   },
   "outputs": [
    {
     "data": {
      "text/html": [
       "<div>\n",
       "<table border=\"1\" class=\"dataframe\">\n",
       "  <thead>\n",
       "    <tr style=\"text-align: right;\">\n",
       "      <th></th>\n",
       "      <th>rank</th>\n",
       "    </tr>\n",
       "  </thead>\n",
       "  <tbody>\n",
       "    <tr>\n",
       "      <th>count</th>\n",
       "      <td>5000.000000</td>\n",
       "    </tr>\n",
       "    <tr>\n",
       "      <th>mean</th>\n",
       "      <td>3.000800</td>\n",
       "    </tr>\n",
       "    <tr>\n",
       "      <th>std</th>\n",
       "      <td>1.414355</td>\n",
       "    </tr>\n",
       "    <tr>\n",
       "      <th>min</th>\n",
       "      <td>1.000000</td>\n",
       "    </tr>\n",
       "    <tr>\n",
       "      <th>25%</th>\n",
       "      <td>2.000000</td>\n",
       "    </tr>\n",
       "    <tr>\n",
       "      <th>50%</th>\n",
       "      <td>3.000000</td>\n",
       "    </tr>\n",
       "    <tr>\n",
       "      <th>75%</th>\n",
       "      <td>4.000000</td>\n",
       "    </tr>\n",
       "    <tr>\n",
       "      <th>max</th>\n",
       "      <td>5.000000</td>\n",
       "    </tr>\n",
       "  </tbody>\n",
       "</table>\n",
       "</div>"
      ],
      "text/plain": [
       "              rank\n",
       "count  5000.000000\n",
       "mean      3.000800\n",
       "std       1.414355\n",
       "min       1.000000\n",
       "25%       2.000000\n",
       "50%       3.000000\n",
       "75%       4.000000\n",
       "max       5.000000"
      ]
     },
     "execution_count": 115,
     "metadata": {},
     "output_type": "execute_result"
    }
   ],
   "source": [
    "data_frame.describe()"
   ]
  },
  {
   "cell_type": "code",
   "execution_count": 116,
   "metadata": {
    "collapsed": false,
    "scrolled": true
   },
   "outputs": [
    {
     "data": {
      "text/plain": [
       "publisher\n",
       "Abrams                                        19\n",
       "Abrams Books                                  20\n",
       "Ace                                            1\n",
       "Akashic                                        2\n",
       "Akashic Books                                 12\n",
       "Amber-Allen                                   23\n",
       "America's Test Kitchen                         4\n",
       "American Girl                                  3\n",
       "Amulet                                         5\n",
       "Amulet Books                                   6\n",
       "Anchor                                        27\n",
       "Andrews McMeel                                 1\n",
       "Arcade                                         1\n",
       "Artisan                                        2\n",
       "Atheneum                                       7\n",
       "Atlantic Monthly                               1\n",
       "Atria                                         56\n",
       "Atria/Keywords                                 8\n",
       "Avery                                         38\n",
       "B & H Publishing                               1\n",
       "B&H                                            2\n",
       "Back Bay/Little Brown                          4\n",
       "Back Bay/Little, Brown                        54\n",
       "Ballantine                                    27\n",
       "Balzer & Bray                                  1\n",
       "Bantam                                        23\n",
       "Basic Books                                    1\n",
       "Bedford/Saint Martin's                         4\n",
       "Bella Andre, Melissa Foster and others         1\n",
       "Berkley                                       25\n",
       "                                            ... \n",
       "St. Martin's Griffin, hardcover and paper      1\n",
       "St. Martin's Press                             4\n",
       "Ten Speed                                     30\n",
       "Ten Speed Press                                2\n",
       "Thomas Dunne/St. Martin's                      8\n",
       "Thomas Dunne/St. Martins                       1\n",
       "Thomas Nelson                                 33\n",
       "Three Rivers                                  27\n",
       "Three Rivers Press                             4\n",
       "Threshold Editions                            22\n",
       "Threshold Editions/Mercury Radio Arts         24\n",
       "Top Shelf Productions                         17\n",
       "Touchstone                                    31\n",
       "Twelve                                        43\n",
       "Tyndale House                                  2\n",
       "VIZ Media                                     64\n",
       "Vertical                                       3\n",
       "Viking                                        18\n",
       "Vintage                                      104\n",
       "Vision                                        13\n",
       "Weinstein                                      1\n",
       "Weinstein Books                                2\n",
       "Wiley                                          4\n",
       "William Morrow                                 4\n",
       "Wizards of the Coast                          20\n",
       "Workman                                       32\n",
       "Yale University Press                          4\n",
       "Yen Press                                     35\n",
       "Zebra                                          5\n",
       "Zondervan                                      5\n",
       "dtype: int64"
      ]
     },
     "execution_count": 116,
     "metadata": {},
     "output_type": "execute_result"
    }
   ],
   "source": [
    "books_by_publisher = data_frame.groupby('publisher')\n",
    "books_by_publisher.size()"
   ]
  },
  {
   "cell_type": "code",
   "execution_count": 87,
   "metadata": {
    "collapsed": false
   },
   "outputs": [
    {
     "data": {
      "image/png": "[encoded data removed]",
      "text/plain": [
       "<matplotlib.figure.Figure at 0x10ef25250>"
      ]
     },
     "metadata": {},
     "output_type": "display_data"
    }
   ],
   "source": [
    "sales_totals = books_by_publisher.sum()\n",
    "my_plot = sales_totals.plot(kind='bar')"
   ]
  },
  {
   "cell_type": "code",
   "execution_count": 117,
   "metadata": {
    "collapsed": true
   },
   "outputs": [],
   "source": [
    "inverse_rank = 6 - data_frame['rank']"
   ]
  },
  {
   "cell_type": "code",
   "execution_count": 118,
   "metadata": {
    "collapsed": false
   },
   "outputs": [],
   "source": [
    "data_frame['inverse rank'] = inverse_rank"
   ]
  },
  {
   "cell_type": "code",
   "execution_count": 98,
   "metadata": {
    "collapsed": false
   },
   "outputs": [
    {
     "data": {
      "image/png": "[encoded data removed]",
      "text/plain": [
       "<matplotlib.figure.Figure at 0x10f671210>"
      ]
     },
     "metadata": {},
     "output_type": "display_data"
    }
   ],
   "source": [
    "books_by_publisher = data_frame.groupby('publisher')\n",
    "rank_value = books_by_publisher.sum()\n",
    "my_plot = rank_value.plot(kind='bar')"
   ]
  },
  {
   "cell_type": "code",
   "execution_count": 119,
   "metadata": {
    "collapsed": false
   },
   "outputs": [
    {
     "data": {
      "text/html": [
       "<div>\n",
       "<table border=\"1\" class=\"dataframe\">\n",
       "  <thead>\n",
       "    <tr style=\"text-align: right;\">\n",
       "      <th></th>\n",
       "      <th>publisher</th>\n",
       "      <th>title</th>\n",
       "      <th>inverse rank</th>\n",
       "    </tr>\n",
       "  </thead>\n",
       "  <tbody>\n",
       "    <tr>\n",
       "      <th>0</th>\n",
       "      <td>Crown</td>\n",
       "      <td>THE MARTIAN</td>\n",
       "      <td>5</td>\n",
       "    </tr>\n",
       "    <tr>\n",
       "      <th>1</th>\n",
       "      <td>Little, Brown</td>\n",
       "      <td>THE MURDER HOUSE</td>\n",
       "      <td>4</td>\n",
       "    </tr>\n",
       "    <tr>\n",
       "      <th>2</th>\n",
       "      <td>Pamela Dorman/Viking</td>\n",
       "      <td>AFTER YOU</td>\n",
       "      <td>3</td>\n",
       "    </tr>\n",
       "    <tr>\n",
       "      <th>3</th>\n",
       "      <td>Delacorte</td>\n",
       "      <td>MAKE ME</td>\n",
       "      <td>2</td>\n",
       "    </tr>\n",
       "    <tr>\n",
       "      <th>4</th>\n",
       "      <td>Knopf</td>\n",
       "      <td>THE GIRL IN THE SPIDER'S WEB</td>\n",
       "      <td>1</td>\n",
       "    </tr>\n",
       "  </tbody>\n",
       "</table>\n",
       "</div>"
      ],
      "text/plain": [
       "              publisher                         title  inverse rank\n",
       "0                 Crown                   THE MARTIAN             5\n",
       "1         Little, Brown              THE MURDER HOUSE             4\n",
       "2  Pamela Dorman/Viking                     AFTER YOU             3\n",
       "3             Delacorte                       MAKE ME             2\n",
       "4                 Knopf  THE GIRL IN THE SPIDER'S WEB             1"
      ]
     },
     "execution_count": 119,
     "metadata": {},
     "output_type": "execute_result"
    }
   ],
   "source": [
    "publishers = data_frame[['publisher','title','inverse rank']]\n",
    "publishers.head()"
   ]
  },
  {
   "cell_type": "code",
   "execution_count": 120,
   "metadata": {
    "collapsed": false
   },
   "outputs": [],
   "source": [
    "books_by_publisher = publishers.groupby('publisher')\n",
    "publisher_rank = books_by_publisher.sum()\n"
   ]
  },
  {
   "cell_type": "code",
   "execution_count": 121,
   "metadata": {
    "collapsed": false,
    "scrolled": false
   },
   "outputs": [
    {
     "name": "stderr",
     "output_type": "stream",
     "text": [
      "/Users/noahburbank/anaconda/envs/py2/lib/python2.7/site-packages/ipykernel/__main__.py:1: FutureWarning: sort(columns=....) is deprecated, use sort_values(by=.....)\n",
      "  if __name__ == '__main__':\n"
     ]
    },
    {
     "data": {
      "text/html": [
       "<div>\n",
       "<table border=\"1\" class=\"dataframe\">\n",
       "  <thead>\n",
       "    <tr style=\"text-align: right;\">\n",
       "      <th></th>\n",
       "      <th>inverse rank</th>\n",
       "    </tr>\n",
       "    <tr>\n",
       "      <th>publisher</th>\n",
       "      <th></th>\n",
       "    </tr>\n",
       "  </thead>\n",
       "  <tbody>\n",
       "    <tr>\n",
       "      <th>Simon &amp; Schuster</th>\n",
       "      <td>991</td>\n",
       "    </tr>\n",
       "    <tr>\n",
       "      <th>Random House</th>\n",
       "      <td>524</td>\n",
       "    </tr>\n",
       "    <tr>\n",
       "      <th>Little, Brown</th>\n",
       "      <td>476</td>\n",
       "    </tr>\n",
       "    <tr>\n",
       "      <th>Penguin</th>\n",
       "      <td>440</td>\n",
       "    </tr>\n",
       "    <tr>\n",
       "      <th>Scholastic</th>\n",
       "      <td>435</td>\n",
       "    </tr>\n",
       "    <tr>\n",
       "      <th>Spiegel &amp; Grau</th>\n",
       "      <td>428</td>\n",
       "    </tr>\n",
       "    <tr>\n",
       "      <th>Crown</th>\n",
       "      <td>377</td>\n",
       "    </tr>\n",
       "    <tr>\n",
       "      <th>Knopf</th>\n",
       "      <td>331</td>\n",
       "    </tr>\n",
       "    <tr>\n",
       "      <th>Scribner</th>\n",
       "      <td>324</td>\n",
       "    </tr>\n",
       "    <tr>\n",
       "      <th>Penguin Press</th>\n",
       "      <td>324</td>\n",
       "    </tr>\n",
       "    <tr>\n",
       "      <th>Vintage</th>\n",
       "      <td>315</td>\n",
       "    </tr>\n",
       "    <tr>\n",
       "      <th>Riverhead</th>\n",
       "      <td>299</td>\n",
       "    </tr>\n",
       "    <tr>\n",
       "      <th>Grand Central</th>\n",
       "      <td>269</td>\n",
       "    </tr>\n",
       "    <tr>\n",
       "      <th>Houghton Mifflin Harcourt</th>\n",
       "      <td>268</td>\n",
       "    </tr>\n",
       "    <tr>\n",
       "      <th>Grove/Atlantic</th>\n",
       "      <td>231</td>\n",
       "    </tr>\n",
       "    <tr>\n",
       "      <th>Doubleday</th>\n",
       "      <td>227</td>\n",
       "    </tr>\n",
       "    <tr>\n",
       "      <th>Harper</th>\n",
       "      <td>227</td>\n",
       "    </tr>\n",
       "    <tr>\n",
       "      <th>Broadway</th>\n",
       "      <td>220</td>\n",
       "    </tr>\n",
       "    <tr>\n",
       "      <th>Penguin Group</th>\n",
       "      <td>213</td>\n",
       "    </tr>\n",
       "    <tr>\n",
       "      <th>VIZ Media</th>\n",
       "      <td>213</td>\n",
       "    </tr>\n",
       "    <tr>\n",
       "      <th>HarperCollins</th>\n",
       "      <td>198</td>\n",
       "    </tr>\n",
       "    <tr>\n",
       "      <th>Morrow/HarperCollins</th>\n",
       "      <td>187</td>\n",
       "    </tr>\n",
       "    <tr>\n",
       "      <th>DC Comics</th>\n",
       "      <td>177</td>\n",
       "    </tr>\n",
       "    <tr>\n",
       "      <th>Atria</th>\n",
       "      <td>167</td>\n",
       "    </tr>\n",
       "    <tr>\n",
       "      <th>Back Bay/Little, Brown</th>\n",
       "      <td>158</td>\n",
       "    </tr>\n",
       "    <tr>\n",
       "      <th>Northfield</th>\n",
       "      <td>154</td>\n",
       "    </tr>\n",
       "    <tr>\n",
       "      <th>Holt</th>\n",
       "      <td>151</td>\n",
       "    </tr>\n",
       "    <tr>\n",
       "      <th>Metropolitan/Holt</th>\n",
       "      <td>141</td>\n",
       "    </tr>\n",
       "    <tr>\n",
       "      <th>Philomel</th>\n",
       "      <td>141</td>\n",
       "    </tr>\n",
       "    <tr>\n",
       "      <th>Twelve</th>\n",
       "      <td>140</td>\n",
       "    </tr>\n",
       "    <tr>\n",
       "      <th>...</th>\n",
       "      <td>...</td>\n",
       "    </tr>\n",
       "    <tr>\n",
       "      <th>Weinstein Books</th>\n",
       "      <td>2</td>\n",
       "    </tr>\n",
       "    <tr>\n",
       "      <th>B&amp;H</th>\n",
       "      <td>2</td>\n",
       "    </tr>\n",
       "    <tr>\n",
       "      <th>St. Martin's Griffin, hardcover and paper</th>\n",
       "      <td>2</td>\n",
       "    </tr>\n",
       "    <tr>\n",
       "      <th>EverAfter Romance</th>\n",
       "      <td>2</td>\n",
       "    </tr>\n",
       "    <tr>\n",
       "      <th>Sourcebooks/Jabberwocky</th>\n",
       "      <td>2</td>\n",
       "    </tr>\n",
       "    <tr>\n",
       "      <th>Frontline</th>\n",
       "      <td>2</td>\n",
       "    </tr>\n",
       "    <tr>\n",
       "      <th>Andrews McMeel</th>\n",
       "      <td>2</td>\n",
       "    </tr>\n",
       "    <tr>\n",
       "      <th>Margaret K. McElderry</th>\n",
       "      <td>2</td>\n",
       "    </tr>\n",
       "    <tr>\n",
       "      <th>Sarah Crichton/Farrar, Straus &amp; Giroux</th>\n",
       "      <td>2</td>\n",
       "    </tr>\n",
       "    <tr>\n",
       "      <th>Rizzoli International</th>\n",
       "      <td>2</td>\n",
       "    </tr>\n",
       "    <tr>\n",
       "      <th>Nancy Paulsen</th>\n",
       "      <td>2</td>\n",
       "    </tr>\n",
       "    <tr>\n",
       "      <th>Rey Street/Morrow</th>\n",
       "      <td>2</td>\n",
       "    </tr>\n",
       "    <tr>\n",
       "      <th>Open Road</th>\n",
       "      <td>2</td>\n",
       "    </tr>\n",
       "    <tr>\n",
       "      <th>Akashic</th>\n",
       "      <td>2</td>\n",
       "    </tr>\n",
       "    <tr>\n",
       "      <th>Portfolio/Penguin</th>\n",
       "      <td>2</td>\n",
       "    </tr>\n",
       "    <tr>\n",
       "      <th>Weinstein</th>\n",
       "      <td>1</td>\n",
       "    </tr>\n",
       "    <tr>\n",
       "      <th>Atlantic Monthly</th>\n",
       "      <td>1</td>\n",
       "    </tr>\n",
       "    <tr>\n",
       "      <th>Arcade</th>\n",
       "      <td>1</td>\n",
       "    </tr>\n",
       "    <tr>\n",
       "      <th>ROC</th>\n",
       "      <td>1</td>\n",
       "    </tr>\n",
       "    <tr>\n",
       "      <th>Basic Books</th>\n",
       "      <td>1</td>\n",
       "    </tr>\n",
       "    <tr>\n",
       "      <th>Bella Andre, Melissa Foster and others</th>\n",
       "      <td>1</td>\n",
       "    </tr>\n",
       "    <tr>\n",
       "      <th>Denise Grover Swank</th>\n",
       "      <td>1</td>\n",
       "    </tr>\n",
       "    <tr>\n",
       "      <th>Disney/Lucasfilm</th>\n",
       "      <td>1</td>\n",
       "    </tr>\n",
       "    <tr>\n",
       "      <th>Soho Teen</th>\n",
       "      <td>1</td>\n",
       "    </tr>\n",
       "    <tr>\n",
       "      <th>Hachette</th>\n",
       "      <td>1</td>\n",
       "    </tr>\n",
       "    <tr>\n",
       "      <th>Marvel Enterprises</th>\n",
       "      <td>1</td>\n",
       "    </tr>\n",
       "    <tr>\n",
       "      <th>Penguin Publishing Group</th>\n",
       "      <td>1</td>\n",
       "    </tr>\n",
       "    <tr>\n",
       "      <th>Plume</th>\n",
       "      <td>1</td>\n",
       "    </tr>\n",
       "    <tr>\n",
       "      <th>Random House Publishing Group</th>\n",
       "      <td>1</td>\n",
       "    </tr>\n",
       "    <tr>\n",
       "      <th>JMC Creations</th>\n",
       "      <td>1</td>\n",
       "    </tr>\n",
       "  </tbody>\n",
       "</table>\n",
       "<p>241 rows × 1 columns</p>\n",
       "</div>"
      ],
      "text/plain": [
       "                                           inverse rank\n",
       "publisher                                              \n",
       "Simon & Schuster                                    991\n",
       "Random House                                        524\n",
       "Little, Brown                                       476\n",
       "Penguin                                             440\n",
       "Scholastic                                          435\n",
       "Spiegel & Grau                                      428\n",
       "Crown                                               377\n",
       "Knopf                                               331\n",
       "Scribner                                            324\n",
       "Penguin Press                                       324\n",
       "Vintage                                             315\n",
       "Riverhead                                           299\n",
       "Grand Central                                       269\n",
       "Houghton Mifflin Harcourt                           268\n",
       "Grove/Atlantic                                      231\n",
       "Doubleday                                           227\n",
       "Harper                                              227\n",
       "Broadway                                            220\n",
       "Penguin Group                                       213\n",
       "VIZ Media                                           213\n",
       "HarperCollins                                       198\n",
       "Morrow/HarperCollins                                187\n",
       "DC Comics                                           177\n",
       "Atria                                               167\n",
       "Back Bay/Little, Brown                              158\n",
       "Northfield                                          154\n",
       "Holt                                                151\n",
       "Metropolitan/Holt                                   141\n",
       "Philomel                                            141\n",
       "Twelve                                              140\n",
       "...                                                 ...\n",
       "Weinstein Books                                       2\n",
       "B&H                                                   2\n",
       "St. Martin's Griffin, hardcover and paper             2\n",
       "EverAfter Romance                                     2\n",
       "Sourcebooks/Jabberwocky                               2\n",
       "Frontline                                             2\n",
       "Andrews McMeel                                        2\n",
       "Margaret K. McElderry                                 2\n",
       "Sarah Crichton/Farrar, Straus & Giroux                2\n",
       "Rizzoli International                                 2\n",
       "Nancy Paulsen                                         2\n",
       "Rey Street/Morrow                                     2\n",
       "Open Road                                             2\n",
       "Akashic                                               2\n",
       "Portfolio/Penguin                                     2\n",
       "Weinstein                                             1\n",
       "Atlantic Monthly                                      1\n",
       "Arcade                                                1\n",
       "ROC                                                   1\n",
       "Basic Books                                           1\n",
       "Bella Andre, Melissa Foster and others                1\n",
       "Denise Grover Swank                                   1\n",
       "Disney/Lucasfilm                                      1\n",
       "Soho Teen                                             1\n",
       "Hachette                                              1\n",
       "Marvel Enterprises                                    1\n",
       "Penguin Publishing Group                              1\n",
       "Plume                                                 1\n",
       "Random House Publishing Group                         1\n",
       "JMC Creations                                         1\n",
       "\n",
       "[241 rows x 1 columns]"
      ]
     },
     "execution_count": 121,
     "metadata": {},
     "output_type": "execute_result"
    }
   ],
   "source": [
    "publisher_rank.sort('inverse rank', ascending = 0)"
   ]
  },
  {
   "cell_type": "code",
   "execution_count": null,
   "metadata": {
    "collapsed": true
   },
   "outputs": [],
   "source": []
  }
 ],
 "metadata": {
  "kernelspec": {
   "display_name": "Python 2",
   "language": "python",
   "name": "python2"
  },
  "language_info": {
   "codemirror_mode": {
    "name": "ipython",
    "version": 2
   },
   "file_extension": ".py",
   "mimetype": "text/x-python",
   "name": "python",
   "nbconvert_exporter": "python",
   "pygments_lexer": "ipython2",
   "version": "2.7.10"
  }
 },
 "nbformat": 4,
 "nbformat_minor": 0
}
